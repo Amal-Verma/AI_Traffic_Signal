{
 "cells": [
  {
   "cell_type": "code",
   "execution_count": 6,
   "metadata": {},
   "outputs": [],
   "source": [
    "from model1.VehicleCounter import VehicleCounter"
   ]
  },
  {
   "cell_type": "code",
   "execution_count": 7,
   "metadata": {},
   "outputs": [],
   "source": [
    "IMAGE_FOLDER_PATH = \"../assets/examples/images\"\n",
    "image_paths = [\n",
    "    f\"{IMAGE_FOLDER_PATH}/traffic_low1.jpg\",\n",
    "    f\"{IMAGE_FOLDER_PATH}/traffic_med1.jpg\",\n",
    "    f\"{IMAGE_FOLDER_PATH}/traffic_high1.jpg\",\n",
    "]"
   ]
  },
  {
   "cell_type": "code",
   "execution_count": 8,
   "metadata": {},
   "outputs": [
    {
     "name": "stderr",
     "output_type": "stream",
     "text": [
      "Using cache found in C:\\Users\\Soham Rane/.cache\\torch\\hub\\ultralytics_yolov5_master\n",
      "YOLOv5  2024-8-29 Python-3.11.9 torch-2.3.1+cpu CPU\n",
      "\n",
      "Fusing layers... \n",
      "YOLOv5s summary: 213 layers, 7225885 parameters, 0 gradients, 16.4 GFLOPs\n",
      "Adding AutoShape... \n"
     ]
    },
    {
     "name": "stdout",
     "output_type": "stream",
     "text": [
      "conf_thres : 0.15\n",
      "Weights ratio [0.4, 1, 2] for bike:car:truck\n"
     ]
    }
   ],
   "source": [
    "vehicle_counter = VehicleCounter(conf_thres=0.15,cnt_ratio=[0.4,1,2])"
   ]
  },
  {
   "cell_type": "code",
   "execution_count": 9,
   "metadata": {},
   "outputs": [
    {
     "name": "stdout",
     "output_type": "stream",
     "text": [
      "\n",
      "../assets/examples/images/traffic_low1.jpg\n",
      "Cars: 18\n",
      "Motorcycles: 2\n",
      "Buses: 0\n",
      "Trucks: 0\n",
      "Final weighted count : 18.8\n",
      "\n",
      "../assets/examples/images/traffic_med1.jpg\n",
      "Cars: 24\n",
      "Motorcycles: 1\n",
      "Buses: 0\n",
      "Trucks: 1\n",
      "Final weighted count : 25.4\n",
      "\n",
      "../assets/examples/images/traffic_high1.jpg\n",
      "Cars: 28\n",
      "Motorcycles: 2\n",
      "Buses: 8\n",
      "Trucks: 1\n",
      "Final weighted count : 45.8\n"
     ]
    },
    {
     "data": {
      "text/plain": [
       "[18.8, 25.4, 45.8]"
      ]
     },
     "execution_count": 9,
     "metadata": {},
     "output_type": "execute_result"
    }
   ],
   "source": [
    "vehicle_counter.countMultiple(image_paths)"
   ]
  },
  {
   "cell_type": "code",
   "execution_count": null,
   "metadata": {},
   "outputs": [],
   "source": []
  }
 ],
 "metadata": {
  "kernelspec": {
   "display_name": "myvenv",
   "language": "python",
   "name": "python3"
  },
  "language_info": {
   "codemirror_mode": {
    "name": "ipython",
    "version": 3
   },
   "file_extension": ".py",
   "mimetype": "text/x-python",
   "name": "python",
   "nbconvert_exporter": "python",
   "pygments_lexer": "ipython3",
   "version": "3.11.9"
  }
 },
 "nbformat": 4,
 "nbformat_minor": 2
}
